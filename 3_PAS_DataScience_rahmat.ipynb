{
  "nbformat": 4,
  "nbformat_minor": 0,
  "metadata": {
    "colab": {
      "provenance": []
    },
    "kernelspec": {
      "name": "python3",
      "display_name": "Python 3"
    },
    "language_info": {
      "name": "python"
    }
  },
  "cells": [
    {
      "cell_type": "code",
      "execution_count": 47,
      "metadata": {
        "colab": {
          "base_uri": "https://localhost:8080/"
        },
        "id": "_2ELvo62B4Dp",
        "outputId": "c21489dc-d3ef-439a-96eb-8e3940eeb85a"
      },
      "outputs": [
        {
          "output_type": "stream",
          "name": "stdout",
          "text": [
            "Total tiap pendapatan perminggu 133955110 \n",
            "====================================================\n",
            "Total tiap pendapatan perminggu 230568800 \n",
            "====================================================\n",
            "Total tiap pendapatan perminggu 325809590 \n",
            "====================================================\n",
            "Total tiap pendapatan perminggu 432592290 \n",
            "====================================================\n"
          ]
        }
      ],
      "source": [
        "#soal 2\n",
        "#minggu ke satu 1\n",
        "mbu1 = 6560860\n",
        "mke1 = 5950850\n",
        "mse1 = 12685900\n",
        "mkep1 = 5768500\n",
        "mpe1 = 2989000\n",
        "\n",
        "#minggu ke dua 2\n",
        "mbu2 = 8782150\n",
        "mke2 = 6620000\n",
        "mse2 = 5128750\n",
        "mkep2 = 5217300\n",
        "mpe2 = 4820600\n",
        "\n",
        "#minggu ke tiga 3\n",
        "mbu3 = 8130940\n",
        "mke3 = 2940650\n",
        "mse3 = 3488200\n",
        "mkep3 = 6930540\n",
        "mpe3 = 4319260\n",
        "\n",
        "#minggu ke empat 4\n",
        "mbu4 = 12849100\n",
        "mke4 = 5752200\n",
        "mse4 = 5128400\n",
        "mkep4 = 3880490\n",
        "mpe4 = 4982100\n",
        "\n",
        "tspp1 = (mbu1 + mke1 + mse1 + mkep1 + mpe1)\n",
        "print(\"Total tiap pendapatan perminggu 1\" + str(tspp1) + \" \")\n",
        "print(\"====================================================\")\n",
        "\n",
        "tspp2 = (mbu2 + mke2 + mse2 + mkep2 + mpe2)\n",
        "print(\"Total tiap pendapatan perminggu 2\" + str(tspp2) + \" \")\n",
        "print(\"====================================================\")\n",
        "\n",
        "tspp3 = (mbu3 + mke3 + mse3 + mkep3 + mpe3)\n",
        "print(\"Total tiap pendapatan perminggu 3\" + str(tspp3) + \" \")\n",
        "print(\"====================================================\")\n",
        "\n",
        "tspp4 = (mbu4 + mke4 + mse4 + mkep4 + mpe4)\n",
        "print(\"Total tiap pendapatan perminggu 4\" + str(tspp4) + \" \")\n",
        "print(\"====================================================\")"
      ]
    },
    {
      "cell_type": "code",
      "source": [
        "import statistics \n",
        "import pandas as pd\n",
        "import numpy as np\n",
        "from scipy import stats"
      ],
      "metadata": {
        "id": "cJVkU8QzawgZ"
      },
      "execution_count": 48,
      "outputs": []
    },
    {
      "cell_type": "code",
      "source": [
        "import matplotlib.pyplot as plt\n",
        "fig = plt.figure()\n",
        "ax = fig.add_axes([0,0,1,1])\n",
        "m = ['minggu1','minggu2','minggu3','minggu4']\n",
        "h = [133955110 , 230568800 , 325809590 , 432592290 ]\n",
        "c = ['blue','orange','purple','red','yellow']\n",
        "plt.bar (m,h, color = c)\n",
        "plt.show()\n",
        "print(\"\")\n",
        "\n",
        "#diagram batang\n",
        "fig = plt.figure()\n",
        "ax = fig.add_axes([0,0,1,1])\n",
        "ax.axis('equal')\n",
        "m = ['minggu1','minggu2','minggu3','minggu4']\n",
        "h = [133955110 , 230568800 , 325809590 , 432592290 ]\n",
        "ax.pie(h,labels=m,autopct='%1.2f%%')\n",
        "plt.show()\n",
        "print()\n",
        "\n",
        "plt.scatter(['Nama_kendar'], ['Jumlah_Kendaraan'])\n",
        "plt.title('Kelompok 1')\n",
        "plt.xlabel('Nama_Kendaraan')\n",
        "plt.ylabel('Jumlah_Kendaraan')\n",
        "plt.grid(True)\n",
        "plt.show()"
      ],
      "metadata": {
        "colab": {
          "base_uri": "https://localhost:8080/",
          "height": 964
        },
        "id": "wEYJHGLjaxdl",
        "outputId": "c1b64b27-cc17-4c5d-b753-087c4f2648f6"
      },
      "execution_count": 56,
      "outputs": [
        {
          "output_type": "display_data",
          "data": {
            "text/plain": [
              "<Figure size 432x288 with 1 Axes>"
            ],
            "image/png": "[encoded data removed]"
          },
          "metadata": {
            "needs_background": "light"
          }
        },
        {
          "output_type": "stream",
          "name": "stdout",
          "text": [
            "\n"
          ]
        },
        {
          "output_type": "display_data",
          "data": {
            "text/plain": [
              "<Figure size 432x288 with 1 Axes>"
            ],
            "image/png": "[encoded data removed]"
          },
          "metadata": {}
        },
        {
          "output_type": "stream",
          "name": "stdout",
          "text": [
            "\n"
          ]
        },
        {
          "output_type": "display_data",
          "data": {
            "text/plain": [
              "<Figure size 432x288 with 1 Axes>"
            ],
            "image/png": "[encoded data removed]"
          },
          "metadata": {
            "needs_background": "light"
          }
        }
      ]
    },
    {
      "cell_type": "code",
      "source": [
        "#rata-rata dari minggu 1\n",
        "print(\"rata-rata minggu ke 1\")\n",
        "a1 = (6560860 / 386)\n",
        "b1 = (5950850 / 752)\n",
        "c1 = (12685900 / 1203)\n",
        "d1 = (5768500 / 715)\n",
        "e1 = (2989000 / 289)\n",
        "print(\"Buah - buahan \" + str(a1) + \" \")\n",
        "print(\"Keperluan Dapur \" + str(b1) + \" \")\n",
        "print(\"Snack dan Makanan \" + str(c1) + \" \")\n",
        "print(\"keperluan Mandi dsb \" + str(d1) + \" \")\n",
        "print(\"Perlengkapan rumah Tangga \" + str(e1) + \" \")\n",
        "print(\"\")\n",
        "\n",
        "#rata-rata dari minggu 2\n",
        "print(\"rata-rata minggu ke 2\")\n",
        "a2 = (8782150 / 454)\n",
        "b2 = (6620000 / 781)\n",
        "c2 = (5128750 / 634)\n",
        "d2 = (5217300 / 659)\n",
        "e2 = (4820600 / 411)\n",
        "print(\"Buah - buahan \" + str(a2) + \" \")\n",
        "print(\"Keperluan Dapur \" + str(b2) + \" \")\n",
        "print(\"Snack dan Makanan \" + str(c2) + \" \")\n",
        "print(\"keperluan Mandi dsb \" + str(d2) + \" \")\n",
        "print(\"Perlengkapan rumah Tangga \" + str(e2) + \" \")\n",
        "print(\"\")\n",
        "\n",
        "#rata-rata dari minggu 3\n",
        "print(\"rata-rata minggu ke 3\")\n",
        "a3 = (8130940 / 599)\n",
        "b3 = (2940650 / 338)\n",
        "c3 = (3488200 / 442)\n",
        "d3 = (6930540 / 872)\n",
        "e3 = (4319260 / 390)\n",
        "print(\"Buah - buahan \" + str(a3) + \" \")\n",
        "print(\"Keperluan Dapur \" + str(b3) + \" \")\n",
        "print(\"Snack dan Makanan \" + str(c3) + \" \")\n",
        "print(\"keperluan Mandi dsb \" + str(d3) + \" \")\n",
        "print(\"Perlengkapan rumah Tangga \" + str(e3) + \" \")\n",
        "print(\"\")\n",
        "\n",
        "#rata-rata dari minggu 4\n",
        "print(\"rata-rata minggu ke 4\")\n",
        "a4 = (12849100 / 867)\n",
        "b4 = (5752200 / 512)\n",
        "c4 = (5128400 / 650)\n",
        "d4 = (3880490 / 492)\n",
        "e4 = (4982100 / 488)\n",
        "print(\"Buah - buahan \" + str(a4) + \" \")\n",
        "print(\"Keperluan Dapur \" + str(b4) + \" \")\n",
        "print(\"Snack dan Makanan \" + str(c4) + \" \")\n",
        "print(\"keperluan Mandi dsb \" + str(d4) + \" \")\n",
        "print(\"Perlengkapan rumah Tangga \" + str(e4) + \" \")\n",
        "print(\"\")"
      ],
      "metadata": {
        "colab": {
          "base_uri": "https://localhost:8080/"
        },
        "id": "gsh_GPvaa4hM",
        "outputId": "8b73a54b-4e31-4709-f200-d7948f1098f7"
      },
      "execution_count": 50,
      "outputs": [
        {
          "output_type": "stream",
          "name": "stdout",
          "text": [
            "rata-rata minggu ke 1\n",
            "Buah - buahan 16997.04663212435 \n",
            "Keperluan Dapur 7913.364361702128 \n",
            "Snack dan Makanan 10545.220282626766 \n",
            "keperluan Mandi dsb 8067.832167832168 \n",
            "Perlengkapan rumah Tangga 10342.560553633219 \n",
            "\n",
            "rata-rata minggu ke 2\n",
            "Buah - buahan 19343.942731277533 \n",
            "Keperluan Dapur 8476.312419974392 \n",
            "Snack dan Makanan 8089.511041009464 \n",
            "keperluan Mandi dsb 7916.995447647952 \n",
            "Perlengkapan rumah Tangga 11728.953771289538 \n",
            "\n",
            "rata-rata minggu ke 3\n",
            "Buah - buahan 13574.190317195325 \n",
            "Keperluan Dapur 8700.147928994083 \n",
            "Snack dan Makanan 7891.85520361991 \n",
            "keperluan Mandi dsb 7947.866972477064 \n",
            "Perlengkapan rumah Tangga 11075.02564102564 \n",
            "\n",
            "rata-rata minggu ke 4\n",
            "Buah - buahan 14820.184544405998 \n",
            "Keperluan Dapur 11234.765625 \n",
            "Snack dan Makanan 7889.846153846154 \n",
            "keperluan Mandi dsb 7887.174796747968 \n",
            "Perlengkapan rumah Tangga 10209.22131147541 \n",
            "\n"
          ]
        }
      ]
    },
    {
      "cell_type": "code",
      "source": [],
      "metadata": {
        "id": "iNf52DlSf3VL"
      },
      "execution_count": null,
      "outputs": []
    }
  ]
}